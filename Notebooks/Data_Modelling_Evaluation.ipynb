{
  "nbformat": 4,
  "nbformat_minor": 0,
  "metadata": {
    "colab": {
      "name": "Data_Modelling/Evaluation.ipynb",
      "provenance": [],
      "authorship_tag": "ABX9TyNR2JJ8wAyFh5R3uIFnHhT1",
      "include_colab_link": true
    },
    "kernelspec": {
      "name": "python3",
      "display_name": "Python 3"
    }
  },
  "cells": [
    {
      "cell_type": "markdown",
      "metadata": {
        "id": "view-in-github",
        "colab_type": "text"
      },
      "source": [
        "<a href=\"https://colab.research.google.com/github/shwets1503/Mental-Health-in-Tech-Industry/blob/master/Notebooks/Data_Modelling_Evaluation.ipynb\" target=\"_parent\"><img src=\"https://colab.research.google.com/assets/colab-badge.svg\" alt=\"Open In Colab\"/></a>"
      ]
    },
    {
      "cell_type": "markdown",
      "metadata": {
        "id": "nCaqT66OZNLl",
        "colab_type": "text"
      },
      "source": [
        "# **Mental Health in Tech Industry**\n",
        "\n",
        "---\n",
        "\n",
        "\n",
        "\n",
        "\n"
      ]
    },
    {
      "cell_type": "markdown",
      "metadata": {
        "id": "2CLIZdeWZTU4",
        "colab_type": "text"
      },
      "source": [
        "Importing Libraries"
      ]
    },
    {
      "cell_type": "code",
      "metadata": {
        "id": "2V-pcoAmbdxS",
        "colab_type": "code",
        "outputId": "381dcfb1-9fa1-4bcb-e148-4de9f88fe504",
        "colab": {
          "base_uri": "https://localhost:8080/",
          "height": 72
        }
      },
      "source": [
        "# Data processing\n",
        "import numpy as np \n",
        "import pandas as pd \n",
        "\n",
        "# Visualization\n",
        "import matplotlib.pyplot as plt\n",
        "import seaborn as sns\n",
        "\n",
        "# Models\n",
        "from scipy.stats import randint\n",
        "from sklearn.preprocessing import binarize\n",
        "from sklearn.model_selection import train_test_split\n",
        "\n",
        "from sklearn.ensemble import RandomForestClassifier, ExtraTreesClassifier\n",
        "from sklearn.linear_model import LogisticRegression\n",
        "from sklearn.tree import DecisionTreeClassifier\n",
        "from sklearn.model_selection import RandomizedSearchCV\n",
        "\n",
        "from sklearn.ensemble import BaggingClassifier, AdaBoostClassifier\n",
        "from sklearn.neighbors import KNeighborsClassifier\n",
        "\n",
        "# Validation \n",
        "from sklearn import metrics\n",
        "from sklearn.metrics import accuracy_score, mean_squared_error, precision_recall_curve, classification_report\n",
        "from sklearn.model_selection import cross_val_score"
      ],
      "execution_count": 0,
      "outputs": [
        {
          "output_type": "stream",
          "text": [
            "/usr/local/lib/python3.6/dist-packages/statsmodels/tools/_testing.py:19: FutureWarning: pandas.util.testing is deprecated. Use the functions in the public API at pandas.testing instead.\n",
            "  import pandas.util.testing as tm\n"
          ],
          "name": "stderr"
        }
      ]
    },
    {
      "cell_type": "markdown",
      "metadata": {
        "id": "_Yw44-NcdJZn",
        "colab_type": "text"
      },
      "source": [
        "Splitting the Dataset"
      ]
    },
    {
      "cell_type": "code",
      "metadata": {
        "id": "ecgeoTU4drJN",
        "colab_type": "code",
        "colab": {}
      },
      "source": [
        "# function to load the data and split into feature and target columns\n",
        "def load_data(data_filepath):\n",
        "  '''\n",
        "  input:\n",
        "      data_filepath: file path to clean datast\n",
        "  output:\n",
        "      X: labels for training\n",
        "      Y: target label\n",
        "      feature_cols: features list\n",
        "  '''\n",
        "\n",
        "  data = pd.read_csv(data_filepath)\n",
        "  feature_cols = ['Age', 'Gender', 'family_history', 'benefits', 'care_options', 'anonymity', 'leave', 'work_interfere']\n",
        "  X = data[feature_cols]\n",
        "  y = data['treatment']\n",
        "\n",
        "  return X, y, feature_cols"
      ],
      "execution_count": 0,
      "outputs": []
    },
    {
      "cell_type": "code",
      "metadata": {
        "id": "Y13XFqpHqkTO",
        "colab_type": "code",
        "colab": {}
      },
      "source": [
        "# Building a forest and checking features importance\n",
        "def feature_importance(X, y, feature_cols):\n",
        "  '''\n",
        "  input:\n",
        "      X: labels for training\n",
        "      Y: target label\n",
        "      feature_cols: features list\n",
        "  output:\n",
        "      None\n",
        "  '''\n",
        "\n",
        "  forest = ExtraTreesClassifier(n_estimators=250, random_state=0)\n",
        "  forest.fit(X, y)\n",
        "  importance = forest.feature_importances_\n",
        "  std = np.std([tree.feature_importances_ for tree in forest.estimators_],\n",
        "              axis=0)\n",
        "  indices = np.argsort(importance)[::-1]\n",
        "\n",
        "  labels = []\n",
        "  for f in range(X.shape[1]):\n",
        "      labels.append(feature_cols[f])      \n",
        "      \n",
        "  # Plotting important features \n",
        "  plt.figure(figsize=(12,8))\n",
        "  plt.title(\"Most Important Features\")\n",
        "  plt.bar(range(X.shape[1]), importance[indices],\n",
        "        color=\"y\", yerr=std[indices], align=\"center\")\n",
        "  plt.xticks(range(X.shape[1]), labels, rotation='vertical')\n",
        "  plt.xlim([-1, X.shape[1]])\n",
        "  plt.show();"
      ],
      "execution_count": 0,
      "outputs": []
    },
    {
      "cell_type": "markdown",
      "metadata": {
        "id": "D87APxrvzJGL",
        "colab_type": "text"
      },
      "source": [
        "\n",
        "\n",
        "---\n",
        "\n"
      ]
    },
    {
      "cell_type": "markdown",
      "metadata": {
        "id": "xWjFpRHkq4DK",
        "colab_type": "text"
      },
      "source": [
        "# **4. Data Modeling**"
      ]
    },
    {
      "cell_type": "markdown",
      "metadata": {
        "id": "kqwwIw9Sss5B",
        "colab_type": "text"
      },
      "source": [
        "## 4.1 Model 1: **Logistic Regression**"
      ]
    },
    {
      "cell_type": "code",
      "metadata": {
        "id": "PbOr7Ne_ryWP",
        "colab_type": "code",
        "colab": {}
      },
      "source": [
        "def logisticRegression(X_train, y_train, X_test, y_test, X, y):\n",
        "    '''\n",
        "      input:\n",
        "          X_train: feature labels for training\n",
        "          y_train: target label for training\n",
        "          X_test: feature labels for test\n",
        "          y_test: target label for test\n",
        "          X: labels for training\n",
        "          Y: target label\n",
        "      output:\n",
        "        None\n",
        "    '''\n",
        "    \n",
        "    # train a logistic regression model on the training set\n",
        "    logreg = LogisticRegression()\n",
        "    logreg.fit(X_train, y_train)\n",
        "    \n",
        "    # make class predictions for the testing set\n",
        "    y_pred_class = logreg.predict(X_test)\n",
        "    \n",
        "    accuracy_score = evaluate_model(logreg, y_test, y_pred_class, X, y)\n",
        "    \n",
        "    #Data for final graph\n",
        "    methodDict['Log. Regres.'] = accuracy_score * 100"
      ],
      "execution_count": 0,
      "outputs": []
    },
    {
      "cell_type": "markdown",
      "metadata": {
        "id": "_Srp29mxs3cu",
        "colab_type": "text"
      },
      "source": [
        "## 4.2 Model 2: **k-Nearest Neighbors Classifier**"
      ]
    },
    {
      "cell_type": "code",
      "metadata": {
        "id": "H_n9l9L060oN",
        "colab_type": "code",
        "colab": {}
      },
      "source": [
        "def Knn(X_train, y_train, X_test, y_test, X, y):\n",
        "    '''\n",
        "      input:\n",
        "          X_train: feature labels for training\n",
        "          y_train: target label for training\n",
        "          X_test: feature labels for test\n",
        "          y_test: target label for test\n",
        "          X: labels for training\n",
        "          Y: target label\n",
        "      output:\n",
        "        None\n",
        "      '''\n",
        "\n",
        "    # Calculating the best parameters\n",
        "    knn = KNeighborsClassifier(n_neighbors=5)\n",
        "    \n",
        "    # Defining the parameter values that should be searched\n",
        "    k_range = list(range(1, 31))\n",
        "    weight_options = ['uniform', 'distance']\n",
        "    \n",
        "    # Specifying \"parameter distributions\" rather than a \"parameter grid\"\n",
        "    param_dist = dict(n_neighbors=k_range, weights=weight_options)\n",
        "    tuningRandomizedSearchCV(knn, param_dist, X, y)\n",
        "    \n",
        "    # Training KNeighborsClassifier model on the training set\n",
        "    knn = KNeighborsClassifier(n_neighbors=27, weights='uniform')\n",
        "    knn.fit(X_train, y_train)\n",
        "    \n",
        "    # Making class predictions for the testing set\n",
        "    y_pred_class = knn.predict(X_test)\n",
        "    \n",
        "    accuracy_score = evaluate_model(knn, y_test, y_pred_class, X, y)\n",
        "\n",
        "    #Data for final graph\n",
        "    methodDict['KNN'] = accuracy_score * 100"
      ],
      "execution_count": 0,
      "outputs": []
    },
    {
      "cell_type": "markdown",
      "metadata": {
        "id": "u3Nzn1EltFy1",
        "colab_type": "text"
      },
      "source": [
        "## 4.3 Model 3: **Random Forest Classifier**"
      ]
    },
    {
      "cell_type": "code",
      "metadata": {
        "id": "Ffjdo49F7tb9",
        "colab_type": "code",
        "colab": {}
      },
      "source": [
        "def randomForest(X_train, y_train, X_test, y_test, feature_cols, X, y):\n",
        "    '''\n",
        "      input:\n",
        "          X_train: feature labels for training\n",
        "          y_train: target label for training\n",
        "          X_test: feature labels for test\n",
        "          y_test: target label for test\n",
        "          feature_cols: features_list\n",
        "          X: labels for training\n",
        "          Y: target label\n",
        "      output:\n",
        "        None\n",
        "      '''\n",
        "      \n",
        "    # Calculating the best parameters\n",
        "    forest = RandomForestClassifier(n_estimators = 20)\n",
        "\n",
        "    featuresSize = feature_cols.__len__()\n",
        "    param_dist = {\"max_depth\": [3, None],\n",
        "              \"max_features\": randint(1, featuresSize),\n",
        "              \"min_samples_split\": randint(2, 9),\n",
        "              \"min_samples_leaf\": randint(1, 9),\n",
        "              \"criterion\": [\"gini\", \"entropy\"]}\n",
        "    tuningRandomizedSearchCV(forest, param_dist, X, y)\n",
        "    \n",
        "    # Building and fitting\n",
        "    forest = RandomForestClassifier(max_depth = None, min_samples_leaf=8, min_samples_split=2, n_estimators = 20, random_state = 1)\n",
        "    my_forest = forest.fit(X_train, y_train)\n",
        "    \n",
        "    # Making class predictions for the testing set\n",
        "    y_pred_class = my_forest.predict(X_test)\n",
        "    \n",
        "    accuracy_score = evaluate_model(my_forest, y_test, y_pred_class, X, y)\n",
        "\n",
        "    #Data for final graph\n",
        "    methodDict['R. Forest'] = accuracy_score * 100"
      ],
      "execution_count": 0,
      "outputs": []
    },
    {
      "cell_type": "markdown",
      "metadata": {
        "id": "XlONJAWUtOJT",
        "colab_type": "text"
      },
      "source": [
        "## 4.4 Model 4: **Boosting**"
      ]
    },
    {
      "cell_type": "code",
      "metadata": {
        "id": "mKH-IHTx8sDK",
        "colab_type": "code",
        "colab": {}
      },
      "source": [
        "def boosting(X_train, y_train, X_test, y_test,X, y):\n",
        "    '''\n",
        "      input:\n",
        "          X_train: feature labels for training\n",
        "          y_train: target label for training\n",
        "          X_test: feature labels for test\n",
        "          y_test: target label for test\n",
        "          X: labels for training\n",
        "          Y: target label\n",
        "      output:\n",
        "        None\n",
        "      '''\n",
        "      \n",
        "    # Building and fitting \n",
        "    clf = DecisionTreeClassifier(criterion='entropy', max_depth=1)\n",
        "    boost = AdaBoostClassifier(base_estimator=clf, n_estimators=500)\n",
        "    boost.fit(X_train, y_train)\n",
        "    \n",
        "    # Making class predictions for the testing set\n",
        "    y_pred_class = boost.predict(X_test)\n",
        "  \n",
        "    accuracy_score = evaluate_model(boost, y_test, y_pred_class, X, y)\n",
        "\n",
        "    #Data for final graph\n",
        "    methodDict['Boosting'] = accuracy_score * 100"
      ],
      "execution_count": 0,
      "outputs": []
    },
    {
      "cell_type": "markdown",
      "metadata": {
        "id": "wX6iYp-5tfrG",
        "colab_type": "text"
      },
      "source": [
        "## 4.5 Model 5: **Bagging**"
      ]
    },
    {
      "cell_type": "code",
      "metadata": {
        "id": "BmzsejCb9hEh",
        "colab_type": "code",
        "colab": {}
      },
      "source": [
        "def bagging(X_train, y_train, X_test, y_test, X, y):\n",
        "    '''\n",
        "      input:\n",
        "          X_train: feature labels for training\n",
        "          y_train: target label for training\n",
        "          X_test: feature labels for test\n",
        "          y_test: target label for test\n",
        "          X: labels for training\n",
        "          Y: target label\n",
        "      output:\n",
        "        None\n",
        "      '''\n",
        "      \n",
        "    # Building and fitting \n",
        "    bag = BaggingClassifier(DecisionTreeClassifier(), max_samples=1.0, max_features=1.0, bootstrap_features=False)\n",
        "    bag.fit(X_train, y_train)\n",
        "    \n",
        "    # Making class predictions for the testing set\n",
        "    y_pred_class = bag.predict(X_test)\n",
        " \n",
        "    accuracy_score = evaluate_model(bag, y_test, y_pred_class, X, y)\n",
        "\n",
        "    #Data for final graph\n",
        "    methodDict['Bagging'] = accuracy_score * 100"
      ],
      "execution_count": 0,
      "outputs": []
    },
    {
      "cell_type": "markdown",
      "metadata": {
        "id": "TQx0pF9vzdFE",
        "colab_type": "text"
      },
      "source": [
        "\n",
        "\n",
        "---\n",
        "\n"
      ]
    },
    {
      "cell_type": "markdown",
      "metadata": {
        "id": "f8gXp_8Dtrxj",
        "colab_type": "text"
      },
      "source": [
        "# **5. Model Evaluation**"
      ]
    },
    {
      "cell_type": "code",
      "metadata": {
        "id": "H5mrXOq7phsx",
        "colab_type": "code",
        "colab": {}
      },
      "source": [
        "def evaluate_model(model, y_test, y_pred_class,X, y):\n",
        "    '''\n",
        "      input:\n",
        "          model: model to be evaluated\n",
        "          y_test: target label for test\n",
        "          y_pred_class: classes predicted by that model\n",
        "          X: labels for training\n",
        "          Y: target label\n",
        "      output:\n",
        "          accuracy: accuracy of the evaluated model\n",
        "      '''\n",
        "\n",
        "    # Confusion matrix\n",
        "    confusion = metrics.confusion_matrix(y_test, y_pred_class)\n",
        "\n",
        "    # Saving values\n",
        "    TP = confusion[1, 1]\n",
        "    TN = confusion[0, 0]\n",
        "    FP = confusion[0, 1]\n",
        "    FN = confusion[1, 0]\n",
        "    \n",
        "    # Visualizing Confusion Matrix\n",
        "    print('\\n')\n",
        "    sns.heatmap(confusion,annot=True,fmt=\"d\") \n",
        "    plt.title('Confusion Matrix')\n",
        "    plt.xlabel('Predicted')\n",
        "    plt.ylabel('Actual')\n",
        "    plt.show()\n",
        "    \n",
        "    # Classification Accuracy\n",
        "    accuracy = metrics.accuracy_score(y_test, y_pred_class)\n",
        "    print('\\033[1m'+'\\nClassification Accuracy:', accuracy)\n",
        "\n",
        "    # AUC Score\n",
        "    print('\\033[1m'+'\\nAUC Score:', metrics.roc_auc_score(y_test, y_pred_class))\n",
        "    \n",
        "    # Cross-validated AUC\n",
        "    print('\\033[1m'+'Cross-validated AUC:', cross_val_score(model, X, y, cv=10, scoring='roc_auc').mean(), '\\n')\n",
        "\n",
        "    print('\\033[1m'+'Classification Report:\\n', classification_report(y_test, y_pred_class))\n",
        "\n",
        "    return accuracy"
      ],
      "execution_count": 0,
      "outputs": []
    },
    {
      "cell_type": "markdown",
      "metadata": {
        "id": "bZtU_EforpCP",
        "colab_type": "text"
      },
      "source": [
        "Tuning the Model with RandomSearchCV"
      ]
    },
    {
      "cell_type": "code",
      "metadata": {
        "id": "jQ5JZgkzrnDy",
        "colab_type": "code",
        "colab": {}
      },
      "source": [
        "def tuningRandomizedSearchCV(model, param_dist, X, y):\n",
        "    '''\n",
        "      input:\n",
        "          model: model for random search CV\n",
        "          param_dist: dictionary of parameters and their values to be searched\n",
        "          X: labels for training\n",
        "          Y: target label\n",
        "      output:\n",
        "        None\n",
        "      '''\n",
        "\n",
        "    # n_iter controls the number of searches\n",
        "    rand = RandomizedSearchCV(model, param_dist, cv=10, scoring='accuracy', n_iter=10, random_state=5)\n",
        "    rand.fit(X, y)\n",
        "    rand.cv_results_\n",
        "    \n",
        "    # Examining the best model\n",
        "    print('\\nRandomized Search Best Score: ', rand.best_score_)\n",
        "    print('Randomized Search Best Parameters: ', rand.best_params_)\n",
        "    \n",
        "    # Run RandomizedSearchCV 20 times (with n_iter=10) and Record the best score\n",
        "    best_scores = []\n",
        "    for _ in range(20):\n",
        "        rand = RandomizedSearchCV(model, param_dist, cv=10, scoring='accuracy', n_iter=10)\n",
        "        rand.fit(X, y)\n",
        "        best_scores.append(round(rand.best_score_, 3))\n",
        "    print(best_scores)"
      ],
      "execution_count": 0,
      "outputs": []
    },
    {
      "cell_type": "markdown",
      "metadata": {
        "id": "besWlyE9jb0d",
        "colab_type": "text"
      },
      "source": [
        "Saving the Best Model and Predictions "
      ]
    },
    {
      "cell_type": "code",
      "metadata": {
        "id": "Yrd67a699XnS",
        "colab_type": "code",
        "colab": {}
      },
      "source": [
        "# Saving best model results \n",
        "def save_model(X, y, X_test):\n",
        "  '''\n",
        "      input:\n",
        "          X: labels for training\n",
        "          Y: target label\n",
        "          X_test: feature labels for test\n",
        "      output:\n",
        "        None\n",
        "      '''\n",
        "  # Generating predictions with the best method\n",
        "  clf = AdaBoostClassifier()\n",
        "  clf.fit(X, y)\n",
        "  dfTestPredictions = clf.predict(X_test)\n",
        "\n",
        "  # Writing predictions to csv file\n",
        "  results = pd.DataFrame({'Index': X_test.index, 'Treatment': dfTestPredictions})\n",
        "\n",
        "  # Saving to file\n",
        "  results.to_csv('results.csv', index=False)"
      ],
      "execution_count": 0,
      "outputs": []
    },
    {
      "cell_type": "code",
      "metadata": {
        "id": "8h362LbrgHLt",
        "colab_type": "code",
        "colab": {}
      },
      "source": [
        " # Creating dictionaries for final graph\n",
        "methodDict = {}\n",
        "rmseDict = ()"
      ],
      "execution_count": 0,
      "outputs": []
    },
    {
      "cell_type": "code",
      "metadata": {
        "id": "hZWoaOAuutT9",
        "colab_type": "code",
        "colab": {}
      },
      "source": [
        "def main():\n",
        "  data_filepath = '/content/data_for_modelling.csv'\n",
        "  print('Loading data...\\n')  \n",
        "  X, y, feature_cols = load_data(data_filepath)\n",
        "\n",
        "  print('Plotting features in order of their importance..')\n",
        "  feature_importance(X, y, feature_cols)\n",
        "\n",
        "  # Split X and y into training and testing sets\n",
        "  X_train, X_test, y_train, y_test = train_test_split(X, y, test_size=0.30, random_state=0)\n",
        "\n",
        "  # Model 1\n",
        "  print('\\033[94m'+'\\033[1m'+'Building model 1: Logistic Regression...'+'\\033[0m')\n",
        "  logisticRegression(X_train, y_train, X_test, y_test, X, y)\n",
        "\n",
        "  # Model 2\n",
        "  print('\\n'+'\\033[94m'+'\\033[1m'+'Building model 2: k-Nearest Neighbors Classifier...'+'\\033[0m')\n",
        "  Knn(X_train, y_train, X_test, y_test, X, y)\n",
        "\n",
        "  # Model 3\n",
        "  print('\\n'+'\\033[94m'+'\\033[1m'+'Building model 3: Random Forests Classifier...'+'\\033[0m')\n",
        "  randomForest(X_train, y_train, X_test, y_test, feature_cols, X, y)\n",
        "\n",
        "  # Model 4\n",
        "  print('\\n'+'\\033[94m'+'\\033[1m'+'Building model 4: Boosting...'+'\\033[0m')\n",
        "  boosting(X_train, y_train, X_test, y_test, X, y)\n",
        "\n",
        "  # Model 5\n",
        "  print('\\n'+'\\033[94m'+'\\033[1m'+'Building model 5: Bagging...'+'\\033[0m')\n",
        "  bagging(X_train, y_train, X_test, y_test, X, y)\n",
        "\n",
        "  # Saving the best model results in a file\n",
        "  print('Saving model...')\n",
        "  save_model(X, y, X_test)\n",
        "  print('Trained model saved!')"
      ],
      "execution_count": 0,
      "outputs": []
    },
    {
      "cell_type": "code",
      "metadata": {
        "id": "eI5FSSbfwser",
        "colab_type": "code",
        "outputId": "8bbe7765-96e5-4c4e-b6aa-8d22686fd865",
        "colab": {
          "base_uri": "https://localhost:8080/",
          "height": 1000
        }
      },
      "source": [
        "main()"
      ],
      "execution_count": 0,
      "outputs": [
        {
          "output_type": "stream",
          "text": [
            "Loading data...\n",
            "\n",
            "Plotting features in order of their importance..\n"
          ],
          "name": "stdout"
        },
        {
          "output_type": "display_data",
          "data": {
            "image/png": "[encoded data removed]",
            "text/plain": [
              "<Figure size 864x576 with 1 Axes>"
            ]
          },
          "metadata": {
            "tags": [],
            "needs_background": "light"
          }
        },
        {
          "output_type": "stream",
          "text": [
            "\u001b[94m\u001b[1mBuilding model 1: Logistic Regression...\u001b[0m\n",
            "\n",
            "\n"
          ],
          "name": "stdout"
        },
        {
          "output_type": "display_data",
          "data": {
            "image/png": "[encoded data removed]",
            "text/plain": [
              "<Figure size 432x288 with 2 Axes>"
            ]
          },
          "metadata": {
            "tags": [],
            "needs_background": "light"
          }
        },
        {
          "output_type": "stream",
          "text": [
            "\u001b[1m\n",
            "Classification Accuracy: 0.8085106382978723\n",
            "\u001b[1m\n",
            "AUC Score: 0.8088447500212206\n",
            "\u001b[1mCross-validated AUC: 0.8757132519973341 \n",
            "\n",
            "\u001b[1mClassification Report:\n",
            "               precision    recall  f1-score   support\n",
            "\n",
            "           0       0.85      0.75      0.80       189\n",
            "           1       0.77      0.87      0.82       187\n",
            "\n",
            "    accuracy                           0.81       376\n",
            "   macro avg       0.81      0.81      0.81       376\n",
            "weighted avg       0.81      0.81      0.81       376\n",
            "\n",
            "\n",
            "\u001b[94m\u001b[1mBuilding model 2: k-Nearest Neighbors Classifier...\u001b[0m\n",
            "\n",
            "Randomized Search Best Score:  0.8156190476190476\n",
            "Randomized Search Best Parameters:  {'weights': 'uniform', 'n_neighbors': 15}\n",
            "[0.819, 0.819, 0.815, 0.814, 0.815, 0.81, 0.814, 0.812, 0.816, 0.815, 0.81, 0.816, 0.81, 0.809, 0.815, 0.815, 0.815, 0.815, 0.815, 0.815]\n",
            "\n",
            "\n"
          ],
          "name": "stdout"
        },
        {
          "output_type": "display_data",
          "data": {
            "image/png": "[encoded data removed]",
            "text/plain": [
              "<Figure size 432x288 with 2 Axes>"
            ]
          },
          "metadata": {
            "tags": [],
            "needs_background": "light"
          }
        },
        {
          "output_type": "stream",
          "text": [
            "\u001b[1m\n",
            "Classification Accuracy: 0.8191489361702128\n",
            "\u001b[1m\n",
            "AUC Score: 0.819511643041055\n",
            "\u001b[1mCross-validated AUC: 0.8786655996777444 \n",
            "\n",
            "\u001b[1mClassification Report:\n",
            "               precision    recall  f1-score   support\n",
            "\n",
            "           0       0.87      0.75      0.81       189\n",
            "           1       0.78      0.89      0.83       187\n",
            "\n",
            "    accuracy                           0.82       376\n",
            "   macro avg       0.83      0.82      0.82       376\n",
            "weighted avg       0.83      0.82      0.82       376\n",
            "\n",
            "\n",
            "\u001b[94m\u001b[1mBuilding model 3: Random Forests Classifier...\u001b[0m\n",
            "\n",
            "Randomized Search Best Score:  0.833231746031746\n",
            "Randomized Search Best Parameters:  {'criterion': 'gini', 'max_depth': 3, 'max_features': 2, 'min_samples_leaf': 2, 'min_samples_split': 4}\n",
            "[0.83, 0.83, 0.833, 0.83, 0.83, 0.836, 0.83, 0.83, 0.831, 0.83, 0.831, 0.83, 0.83, 0.833, 0.834, 0.831, 0.83, 0.832, 0.83, 0.832]\n",
            "\n",
            "\n"
          ],
          "name": "stdout"
        },
        {
          "output_type": "display_data",
          "data": {
            "image/png": "[encoded data removed]",
            "text/plain": [
              "<Figure size 432x288 with 2 Axes>"
            ]
          },
          "metadata": {
            "tags": [],
            "needs_background": "light"
          }
        },
        {
          "output_type": "stream",
          "text": [
            "\u001b[1m\n",
            "Classification Accuracy: 0.8058510638297872\n",
            "\u001b[1m\n",
            "AUC Score: 0.806340718105424\n",
            "\u001b[1mCross-validated AUC: 0.8963952137381238 \n",
            "\n",
            "\u001b[1mClassification Report:\n",
            "               precision    recall  f1-score   support\n",
            "\n",
            "           0       0.88      0.71      0.79       189\n",
            "           1       0.76      0.90      0.82       187\n",
            "\n",
            "    accuracy                           0.81       376\n",
            "   macro avg       0.82      0.81      0.80       376\n",
            "weighted avg       0.82      0.81      0.80       376\n",
            "\n",
            "\n",
            "\u001b[94m\u001b[1mBuilding model 4: Boosting...\u001b[0m\n",
            "\n",
            "\n"
          ],
          "name": "stdout"
        },
        {
          "output_type": "display_data",
          "data": {
            "image/png": "[encoded data removed]",
            "text/plain": [
              "<Figure size 432x288 with 2 Axes>"
            ]
          },
          "metadata": {
            "tags": [],
            "needs_background": "light"
          }
        },
        {
          "output_type": "stream",
          "text": [
            "\u001b[1m\n",
            "Classification Accuracy: 0.8218085106382979\n",
            "\u001b[1m\n",
            "AUC Score: 0.8222137339784399\n",
            "\u001b[1mCross-validated AUC: 0.8738223373280019 \n",
            "\n",
            "\u001b[1mClassification Report:\n",
            "               precision    recall  f1-score   support\n",
            "\n",
            "           0       0.88      0.75      0.81       189\n",
            "           1       0.78      0.90      0.83       187\n",
            "\n",
            "    accuracy                           0.82       376\n",
            "   macro avg       0.83      0.82      0.82       376\n",
            "weighted avg       0.83      0.82      0.82       376\n",
            "\n",
            "\n",
            "\u001b[94m\u001b[1mBuilding model 5: Bagging...\u001b[0m\n",
            "\n",
            "\n"
          ],
          "name": "stdout"
        },
        {
          "output_type": "display_data",
          "data": {
            "image/png": "[encoded data removed]",
            "text/plain": [
              "<Figure size 432x288 with 2 Axes>"
            ]
          },
          "metadata": {
            "tags": [],
            "needs_background": "light"
          }
        },
        {
          "output_type": "stream",
          "text": [
            "\u001b[1m\n",
            "Classification Accuracy: 0.7952127659574468\n",
            "\u001b[1m\n",
            "AUC Score: 0.795560648501825\n",
            "\u001b[1mCross-validated AUC: 0.8401873402437439 \n",
            "\n",
            "\u001b[1mClassification Report:\n",
            "               precision    recall  f1-score   support\n",
            "\n",
            "           0       0.84      0.73      0.78       189\n",
            "           1       0.76      0.86      0.81       187\n",
            "\n",
            "    accuracy                           0.80       376\n",
            "   macro avg       0.80      0.80      0.79       376\n",
            "weighted avg       0.80      0.80      0.79       376\n",
            "\n",
            "Saving model...\n",
            "Trained model saved!\n"
          ],
          "name": "stdout"
        }
      ]
    },
    {
      "cell_type": "code",
      "metadata": {
        "id": "bStE_sw-9N0B",
        "colab_type": "code",
        "colab": {}
      },
      "source": [
        "def plotSuccess():\n",
        "    s = pd.Series(methodDict)\n",
        "    s = s.sort_values(ascending=False)\n",
        "    plt.figure(figsize=(10,6))\n",
        "    \n",
        "    ax = s.plot(kind='bar', color=['grey', 'orange', 'lightgreen', 'yellow', 'cyan'], edgecolor='black') \n",
        "    for p in ax.patches:\n",
        "        ax.annotate(str(round(p.get_height(),2)), (p.get_x() * 1.005, p.get_height() * 1.005))\n",
        "    plt.ylim([70.0, 90.0])\n",
        "    plt.xlabel('Model')\n",
        "    plt.ylabel('Accuracy Percentage')\n",
        "    plt.title('Models Performance ')\n",
        "  \n",
        "    plt.show()"
      ],
      "execution_count": 0,
      "outputs": []
    },
    {
      "cell_type": "code",
      "metadata": {
        "id": "rdrGaraA9VyQ",
        "colab_type": "code",
        "outputId": "768b981d-7112-4d8c-daf5-29a54baac10f",
        "colab": {
          "base_uri": "https://localhost:8080/",
          "height": 456
        }
      },
      "source": [
        "# plot of each model with their accuracy value\n",
        "plotSuccess()"
      ],
      "execution_count": 0,
      "outputs": [
        {
          "output_type": "display_data",
          "data": {
            "image/png": "[encoded data removed]",
            "text/plain": [
              "<Figure size 720x432 with 1 Axes>"
            ]
          },
          "metadata": {
            "tags": [],
            "needs_background": "light"
          }
        }
      ]
    }
  ]
}